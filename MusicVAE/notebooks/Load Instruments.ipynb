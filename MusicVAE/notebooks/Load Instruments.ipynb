{
 "cells": [
  {
   "cell_type": "code",
   "execution_count": 1,
   "metadata": {},
   "outputs": [],
   "source": [
    "import glob\n",
    "import os\n",
    "import pandas as pd\n",
    "\n",
    "import pretty_midi\n",
    "\n",
    "from IPython.display import clear_output"
   ]
  },
  {
   "cell_type": "code",
   "execution_count": 2,
   "metadata": {},
   "outputs": [],
   "source": [
    "DATA_PATH = '/tmp/data/'\n",
    "SEARCH_CRITERION = '**/*.mid'\n",
    "\n",
    "midi_files = glob.glob(os.path.join(DATA_PATH, SEARCH_CRITERION), recursive=True)"
   ]
  },
  {
   "cell_type": "markdown",
   "metadata": {},
   "source": [
    "# Simplifying the dataset\n",
    "\n",
    "To begin with, let's list all the instruments present in the midi files by count, so we can take a decision on where to start.\n",
    "We will want to only focus on training melodies for one set for now, so it makes sense to pick an instrument (program code), that is present in large quantities, and is likely to have long melodies to train on.\n",
    "\n",
    "Initial guesses would be a Piano or Guitar program.\n",
    "\n",
    "Some songs might have duplicates - we'll find a way to deal with this later if necessary.\n",
    "\n",
    "[See here](https://soundprogramming.net/file-formats/general-midi-instrument-list/) for a list of instrument programs and their names"
   ]
  },
  {
   "cell_type": "code",
   "execution_count": 3,
   "metadata": {},
   "outputs": [
    {
     "name": "stdout",
     "output_type": "stream",
     "text": [
      "561/563: Loading and parsing 135.mid.\n"
     ]
    }
   ],
   "source": [
    "# Save the filepath for a second pass loading the piano rolls for each instrument we will use\n",
    "\n",
    "limit = -1\n",
    "\n",
    "instrument_ary = [[]]\n",
    "instrument_ary.append(['program', 'is_drum', 'name', 'filepath'])\n",
    "# This might take a while...\n",
    "for index, file in enumerate(midi_files[:limit]):\n",
    "    clear_output(wait=True)\n",
    "    print(\"{}/{}: Loading and parsing {}.\".format(index, len(midi_files), os.path.basename(file)))\n",
    "    try:\n",
    "        pm = pretty_midi.PrettyMIDI(file)\n",
    "        instruments = pm.instruments\n",
    "\n",
    "        for instrument in instruments:\n",
    "            instrument_ary.append([instrument.program, instrument.is_drum, instrument.name.replace(';',''), file])\n",
    "    except:\n",
    "        # For now, just ignore files we can't load.\n",
    "        continue"
   ]
  },
  {
   "cell_type": "code",
   "execution_count": 4,
   "metadata": {},
   "outputs": [
    {
     "data": {
      "text/html": [
       "<div>\n",
       "<style scoped>\n",
       "    .dataframe tbody tr th:only-of-type {\n",
       "        vertical-align: middle;\n",
       "    }\n",
       "\n",
       "    .dataframe tbody tr th {\n",
       "        vertical-align: top;\n",
       "    }\n",
       "\n",
       "    .dataframe thead th {\n",
       "        text-align: right;\n",
       "    }\n",
       "</style>\n",
       "<table border=\"1\" class=\"dataframe\">\n",
       "  <thead>\n",
       "    <tr style=\"text-align: right;\">\n",
       "      <th></th>\n",
       "      <th>program</th>\n",
       "      <th>is_drum</th>\n",
       "      <th>name</th>\n",
       "      <th>filepath</th>\n",
       "    </tr>\n",
       "  </thead>\n",
       "  <tbody>\n",
       "    <tr>\n",
       "      <th>1</th>\n",
       "      <td>program</td>\n",
       "      <td>is_drum</td>\n",
       "      <td>name</td>\n",
       "      <td>filepath</td>\n",
       "    </tr>\n",
       "    <tr>\n",
       "      <th>2</th>\n",
       "      <td>19</td>\n",
       "      <td>False</td>\n",
       "      <td>Soprano</td>\n",
       "      <td>/tmp/data/66.mid</td>\n",
       "    </tr>\n",
       "    <tr>\n",
       "      <th>3</th>\n",
       "      <td>19</td>\n",
       "      <td>False</td>\n",
       "      <td>Soprano</td>\n",
       "      <td>/tmp/data/66.mid</td>\n",
       "    </tr>\n",
       "    <tr>\n",
       "      <th>4</th>\n",
       "      <td>19</td>\n",
       "      <td>False</td>\n",
       "      <td>Soprano</td>\n",
       "      <td>/tmp/data/66.mid</td>\n",
       "    </tr>\n",
       "    <tr>\n",
       "      <th>5</th>\n",
       "      <td>19</td>\n",
       "      <td>False</td>\n",
       "      <td>Soprano</td>\n",
       "      <td>/tmp/data/66.mid</td>\n",
       "    </tr>\n",
       "  </tbody>\n",
       "</table>\n",
       "</div>"
      ],
      "text/plain": [
       "   program  is_drum     name          filepath\n",
       "1  program  is_drum     name          filepath\n",
       "2       19    False  Soprano  /tmp/data/66.mid\n",
       "3       19    False  Soprano  /tmp/data/66.mid\n",
       "4       19    False  Soprano  /tmp/data/66.mid\n",
       "5       19    False  Soprano  /tmp/data/66.mid"
      ]
     },
     "execution_count": 4,
     "metadata": {},
     "output_type": "execute_result"
    }
   ],
   "source": [
    "df = pd.DataFrame(data=instrument_ary, columns=[\"program\", \"is_drum\", \"name\", \"filepath\"])\n",
    "df = df.dropna()\n",
    "df.head()"
   ]
  },
  {
   "cell_type": "markdown",
   "metadata": {},
   "source": [
    "# Save the loaded instruments for further processing"
   ]
  },
  {
   "cell_type": "code",
   "execution_count": 5,
   "metadata": {},
   "outputs": [],
   "source": [
    "file_name = 'instruments.csv'\n",
    "df.to_csv(file_name, sep=';', encoding='utf-8')"
   ]
  },
  {
   "cell_type": "markdown",
   "metadata": {},
   "source": [
    "## Show the instruments that occur most often in different files\n",
    "\n",
    "We want to get an intuition of which songs might have the most attractive instruments to work on"
   ]
  },
  {
   "cell_type": "code",
   "execution_count": 6,
   "metadata": {},
   "outputs": [
    {
     "data": {
      "text/html": [
       "<div>\n",
       "<style scoped>\n",
       "    .dataframe tbody tr th:only-of-type {\n",
       "        vertical-align: middle;\n",
       "    }\n",
       "\n",
       "    .dataframe tbody tr th {\n",
       "        vertical-align: top;\n",
       "    }\n",
       "\n",
       "    .dataframe thead th {\n",
       "        text-align: right;\n",
       "    }\n",
       "</style>\n",
       "<table border=\"1\" class=\"dataframe\">\n",
       "  <thead>\n",
       "    <tr style=\"text-align: right;\">\n",
       "      <th></th>\n",
       "      <th>program</th>\n",
       "      <th>is_drum</th>\n",
       "      <th>name</th>\n",
       "      <th>filepath</th>\n",
       "    </tr>\n",
       "    <tr>\n",
       "      <th>program</th>\n",
       "      <th></th>\n",
       "      <th></th>\n",
       "      <th></th>\n",
       "      <th></th>\n",
       "    </tr>\n",
       "  </thead>\n",
       "  <tbody>\n",
       "    <tr>\n",
       "      <th>19</th>\n",
       "      <td>1</td>\n",
       "      <td>1</td>\n",
       "      <td>5</td>\n",
       "      <td>523</td>\n",
       "    </tr>\n",
       "    <tr>\n",
       "      <th>40</th>\n",
       "      <td>1</td>\n",
       "      <td>1</td>\n",
       "      <td>1</td>\n",
       "      <td>17</td>\n",
       "    </tr>\n",
       "    <tr>\n",
       "      <th>42</th>\n",
       "      <td>1</td>\n",
       "      <td>1</td>\n",
       "      <td>1</td>\n",
       "      <td>15</td>\n",
       "    </tr>\n",
       "    <tr>\n",
       "      <th>0</th>\n",
       "      <td>1</td>\n",
       "      <td>1</td>\n",
       "      <td>1</td>\n",
       "      <td>7</td>\n",
       "    </tr>\n",
       "    <tr>\n",
       "      <th>6</th>\n",
       "      <td>1</td>\n",
       "      <td>1</td>\n",
       "      <td>1</td>\n",
       "      <td>5</td>\n",
       "    </tr>\n",
       "    <tr>\n",
       "      <th>73</th>\n",
       "      <td>1</td>\n",
       "      <td>1</td>\n",
       "      <td>1</td>\n",
       "      <td>4</td>\n",
       "    </tr>\n",
       "    <tr>\n",
       "      <th>41</th>\n",
       "      <td>1</td>\n",
       "      <td>1</td>\n",
       "      <td>1</td>\n",
       "      <td>1</td>\n",
       "    </tr>\n",
       "    <tr>\n",
       "      <th>program</th>\n",
       "      <td>1</td>\n",
       "      <td>1</td>\n",
       "      <td>1</td>\n",
       "      <td>1</td>\n",
       "    </tr>\n",
       "  </tbody>\n",
       "</table>\n",
       "</div>"
      ],
      "text/plain": [
       "         program  is_drum  name  filepath\n",
       "program                                  \n",
       "19             1        1     5       523\n",
       "40             1        1     1        17\n",
       "42             1        1     1        15\n",
       "0              1        1     1         7\n",
       "6              1        1     1         5\n",
       "73             1        1     1         4\n",
       "41             1        1     1         1\n",
       "program        1        1     1         1"
      ]
     },
     "execution_count": 6,
     "metadata": {},
     "output_type": "execute_result"
    }
   ],
   "source": [
    "# Show the instrument with the most unique filepath values\n",
    "df.groupby('program').nunique().sort_values('filepath', ascending=False)"
   ]
  },
  {
   "cell_type": "code",
   "execution_count": null,
   "metadata": {},
   "outputs": [],
   "source": []
  }
 ],
 "metadata": {
  "kernelspec": {
   "display_name": "Python 3",
   "language": "python",
   "name": "python3"
  },
  "language_info": {
   "codemirror_mode": {
    "name": "ipython",
    "version": 3
   },
   "file_extension": ".py",
   "mimetype": "text/x-python",
   "name": "python",
   "nbconvert_exporter": "python",
   "pygments_lexer": "ipython3",
   "version": "3.6.5"
  }
 },
 "nbformat": 4,
 "nbformat_minor": 2
}
